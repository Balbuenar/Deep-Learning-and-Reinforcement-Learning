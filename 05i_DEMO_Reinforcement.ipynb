{
  "nbformat": 4,
  "nbformat_minor": 0,
  "metadata": {
    "kernelspec": {
      "display_name": "metis",
      "language": "python",
      "name": "metis"
    },
    "language_info": {
      "codemirror_mode": {
        "name": "ipython",
        "version": 3
      },
      "file_extension": ".py",
      "mimetype": "text/x-python",
      "name": "python",
      "nbconvert_exporter": "python",
      "pygments_lexer": "ipython3",
      "version": "3.7.4"
    },
    "colab": {
      "name": "05i_DEMO_Reinforcement.ipynb",
      "provenance": [],
      "include_colab_link": true
    }
  },
  "cells": [
    {
      "cell_type": "markdown",
      "metadata": {
        "id": "view-in-github",
        "colab_type": "text"
      },
      "source": [
        "<a href=\"https://colab.research.google.com/github/Balbuenar/Deep-Learning-and-Reinforcement-Learning/blob/main/05i_DEMO_Reinforcement.ipynb\" target=\"_parent\"><img src=\"https://colab.research.google.com/assets/colab-badge.svg\" alt=\"Open In Colab\"/></a>"
      ]
    },
    {
      "cell_type": "markdown",
      "metadata": {
        "run_control": {
          "marked": true
        },
        "id": "F484kzTvu8Cp"
      },
      "source": [
        "# Machine Learning Foundation\n",
        "\n",
        "## Course 5, Part i: Reinforcement Learning DEMO"
      ]
    },
    {
      "cell_type": "markdown",
      "metadata": {
        "id": "9fY-KU92u8Cu"
      },
      "source": [
        "## Reinforcement Learning Example\n",
        "\n",
        "In this example from Reinforcement Learning, the task is to use tools from Machine Learning to predict how an agent should act. We will then use those predictions to drive the behavior of the agent. Ideally, our intelligent agent should get a much better score than a random agent.\n",
        "\n",
        "## Key concepts:\n",
        "\n",
        "- **Observation**: These are the states of the game. It describes where the agent currently is.\n",
        "- **Action**: These are the moves that the agent makes.\n",
        "- **Episode**: One full game played from beginning (`env.reset()`) to end (when `done == True`).\n",
        "- **Step**: Part of a game that includes one action. The game transitions from one observation to the next.\n",
        "\n",
        "## Setup\n",
        "\n",
        "This exaple uses the Python library [OpenAI Gym](https://gym.openai.com/docs/).\n",
        "\n",
        "If you want to install everything (gym can run atari games.) follow [these instructions](https://github.com/openai/gym#installing-everything).\n",
        "\n",
        "Now we can build an environment using OpenAI. "
      ]
    },
    {
      "cell_type": "code",
      "metadata": {
        "id": "fZ2llUJWu8Cv"
      },
      "source": [
        "import gym\n",
        "import pandas\n",
        "import numpy as np"
      ],
      "execution_count": 1,
      "outputs": []
    },
    {
      "cell_type": "markdown",
      "metadata": {
        "id": "WJ0Ni4JCu8Cw"
      },
      "source": [
        "# The first part of the game uses the environment FrozenLake-V0\n",
        "\n",
        "This is a small world with 16 tiles. \n",
        "\n",
        "    SFFF\n",
        "    FHFH\n",
        "    FFFH\n",
        "    HFFG\n",
        "\n",
        "The game starts at the S tile. The object of the game is to get to the goal (G) without landing in a hole (H)."
      ]
    },
    {
      "cell_type": "code",
      "metadata": {
        "colab": {
          "base_uri": "https://localhost:8080/"
        },
        "id": "X5qdmh4vu8Cw",
        "outputId": "de6c7f1e-2ff7-4d7f-de95-2e1e3a0c697e"
      },
      "source": [
        "# Build an environment with gym.make()\n",
        "env = gym.make('FrozenLake-v0') # build a fresh environment\n",
        "\n",
        "# Start a new game with env.reset()\n",
        "current_observation = env.reset() # this starts a new \"episode\" and returns the initial observation\n",
        "\n",
        "#the current observation is just the current location\n",
        "print(current_observation) # observations are just a number"
      ],
      "execution_count": 2,
      "outputs": [
        {
          "output_type": "stream",
          "text": [
            "0\n"
          ],
          "name": "stdout"
        }
      ]
    },
    {
      "cell_type": "code",
      "metadata": {
        "colab": {
          "base_uri": "https://localhost:8080/"
        },
        "id": "5MuYIZAQu8Cy",
        "outputId": "997eea77-5a3a-4251-c605-f4a749c6542e"
      },
      "source": [
        "# we can print the environment if we want to look at it\n",
        "env.render() "
      ],
      "execution_count": 3,
      "outputs": [
        {
          "output_type": "stream",
          "text": [
            "\n",
            "\u001b[41mS\u001b[0mFFF\n",
            "FHFH\n",
            "FFFH\n",
            "HFFG\n"
          ],
          "name": "stdout"
        }
      ]
    },
    {
      "cell_type": "code",
      "metadata": {
        "colab": {
          "base_uri": "https://localhost:8080/"
        },
        "id": "nfC7q9nau8Cy",
        "outputId": "81c49498-3d05-465c-a15f-8744a12571b6"
      },
      "source": [
        "# the action space for this environment includes four discrete actions\n",
        "\n",
        "print(f\"our action space: {env.action_space}\")\n",
        "\n",
        "new_action = env.action_space.sample() # we can randomly sample actions\n",
        "\n",
        "print(f\"our new action: {new_action}\") # run this cell a few times to get an idea of the action space\n",
        "# what does it look like?"
      ],
      "execution_count": 4,
      "outputs": [
        {
          "output_type": "stream",
          "text": [
            "our action space: Discrete(4)\n",
            "our new action: 3\n"
          ],
          "name": "stdout"
        }
      ]
    },
    {
      "cell_type": "code",
      "metadata": {
        "colab": {
          "base_uri": "https://localhost:8080/"
        },
        "id": "RQH3FyZau8Cz",
        "outputId": "d8afff16-08cb-4137-b3d7-23b849ad8d3a"
      },
      "source": [
        "# now we act! do this with the step function\n",
        "\n",
        "new_action = env.action_space.sample()\n",
        "\n",
        "observation, reward, done, info = env.step(new_action)\n",
        "\n",
        "# here's a look at what we get back\n",
        "print(f\"observation: {observation}, reward: {reward}, done: {done}, info: {info}\")\n",
        "\n",
        "env.render() "
      ],
      "execution_count": 5,
      "outputs": [
        {
          "output_type": "stream",
          "text": [
            "observation: 0, reward: 0.0, done: False, info: {'prob': 0.3333333333333333}\n",
            "  (Left)\n",
            "\u001b[41mS\u001b[0mFFF\n",
            "FHFH\n",
            "FFFH\n",
            "HFFG\n"
          ],
          "name": "stdout"
        }
      ]
    },
    {
      "cell_type": "code",
      "metadata": {
        "colab": {
          "base_uri": "https://localhost:8080/"
        },
        "id": "98Y1h00Eu8C0",
        "outputId": "7524775e-faab-421d-be5f-2c377cdeb09d"
      },
      "source": [
        "# we can put this process into a for-loop and see how the game progresses\n",
        "\n",
        "current_observation = env.reset() # start a new game\n",
        "\n",
        "for i in range(5): # run 5 moves\n",
        "\n",
        "    new_action = env.action_space.sample() # same a new action\n",
        "\n",
        "    observation, reward, done, info = env.step(new_action) # step through the action and get the outputs\n",
        "\n",
        "    # here's a look at what we get back\n",
        "    print(f\"observation: {observation}, reward: {reward}, done: {done}, info: {info}\")\n",
        "\n",
        "    env.render() "
      ],
      "execution_count": 6,
      "outputs": [
        {
          "output_type": "stream",
          "text": [
            "observation: 0, reward: 0.0, done: False, info: {'prob': 0.3333333333333333}\n",
            "  (Left)\n",
            "\u001b[41mS\u001b[0mFFF\n",
            "FHFH\n",
            "FFFH\n",
            "HFFG\n",
            "observation: 4, reward: 0.0, done: False, info: {'prob': 0.3333333333333333}\n",
            "  (Right)\n",
            "SFFF\n",
            "\u001b[41mF\u001b[0mHFH\n",
            "FFFH\n",
            "HFFG\n",
            "observation: 8, reward: 0.0, done: False, info: {'prob': 0.3333333333333333}\n",
            "  (Right)\n",
            "SFFF\n",
            "FHFH\n",
            "\u001b[41mF\u001b[0mFFH\n",
            "HFFG\n",
            "observation: 9, reward: 0.0, done: False, info: {'prob': 0.3333333333333333}\n",
            "  (Up)\n",
            "SFFF\n",
            "FHFH\n",
            "F\u001b[41mF\u001b[0mFH\n",
            "HFFG\n",
            "observation: 10, reward: 0.0, done: False, info: {'prob': 0.3333333333333333}\n",
            "  (Up)\n",
            "SFFF\n",
            "FHFH\n",
            "FF\u001b[41mF\u001b[0mH\n",
            "HFFG\n"
          ],
          "name": "stdout"
        }
      ]
    },
    {
      "cell_type": "markdown",
      "metadata": {
        "id": "rLbYZspnu8C0"
      },
      "source": [
        "Now we can guess what each of the outputs mean. \n",
        "\n",
        "**Observation** refers to the number of the tile. The tiles appear to be numbered\n",
        "\n",
        "    0 1 2 3\n",
        "    4 5 ...\n",
        "    \n",
        "**Reward** refers to the outcome of the game. We get 1 if we win, zero otherwise.\n",
        "\n",
        "**Done** tells us if the game is still going. It goes to true when we win or fall into a hole.\n",
        "\n",
        "**info** gives extra info about the world. Here, it's probabilities. Can you guess what this means here? Perhaps the world is a bit noisy."
      ]
    },
    {
      "cell_type": "code",
      "metadata": {
        "colab": {
          "base_uri": "https://localhost:8080/"
        },
        "id": "n748d1Y6u8C1",
        "outputId": "28c781fc-b92e-46ec-8800-00b3429a11e3"
      },
      "source": [
        "# Here's how to simulate an entire episode\n",
        "# We're going to stop rendering it every time to save space\n",
        "# try running this a few. Does it ever win?\n",
        "\n",
        "current_observation = env.reset()\n",
        "done = False\n",
        "\n",
        "while not done:    \n",
        "    new_action = env.action_space.sample()\n",
        "    new_observation, reward, done, info = env.step(new_action)\n",
        "    print(f\"action:{new_action} observation: {new_observation}, reward: {reward}, done: {done}, info: {info}\")"
      ],
      "execution_count": 7,
      "outputs": [
        {
          "output_type": "stream",
          "text": [
            "action:1 observation: 0, reward: 0.0, done: False, info: {'prob': 0.3333333333333333}\n",
            "action:2 observation: 0, reward: 0.0, done: False, info: {'prob': 0.3333333333333333}\n",
            "action:2 observation: 4, reward: 0.0, done: False, info: {'prob': 0.3333333333333333}\n",
            "action:2 observation: 8, reward: 0.0, done: False, info: {'prob': 0.3333333333333333}\n",
            "action:0 observation: 4, reward: 0.0, done: False, info: {'prob': 0.3333333333333333}\n",
            "action:3 observation: 4, reward: 0.0, done: False, info: {'prob': 0.3333333333333333}\n",
            "action:0 observation: 8, reward: 0.0, done: False, info: {'prob': 0.3333333333333333}\n",
            "action:3 observation: 4, reward: 0.0, done: False, info: {'prob': 0.3333333333333333}\n",
            "action:0 observation: 0, reward: 0.0, done: False, info: {'prob': 0.3333333333333333}\n",
            "action:2 observation: 1, reward: 0.0, done: False, info: {'prob': 0.3333333333333333}\n",
            "action:0 observation: 0, reward: 0.0, done: False, info: {'prob': 0.3333333333333333}\n",
            "action:0 observation: 0, reward: 0.0, done: False, info: {'prob': 0.3333333333333333}\n",
            "action:1 observation: 0, reward: 0.0, done: False, info: {'prob': 0.3333333333333333}\n",
            "action:2 observation: 4, reward: 0.0, done: False, info: {'prob': 0.3333333333333333}\n",
            "action:3 observation: 4, reward: 0.0, done: False, info: {'prob': 0.3333333333333333}\n",
            "action:0 observation: 8, reward: 0.0, done: False, info: {'prob': 0.3333333333333333}\n",
            "action:3 observation: 8, reward: 0.0, done: False, info: {'prob': 0.3333333333333333}\n",
            "action:3 observation: 9, reward: 0.0, done: False, info: {'prob': 0.3333333333333333}\n",
            "action:1 observation: 8, reward: 0.0, done: False, info: {'prob': 0.3333333333333333}\n",
            "action:2 observation: 12, reward: 0.0, done: True, info: {'prob': 0.3333333333333333}\n"
          ],
          "name": "stdout"
        }
      ]
    },
    {
      "cell_type": "markdown",
      "metadata": {
        "id": "02vehE56u8C1"
      },
      "source": [
        "Things to think about:\n",
        "- What things do you notice about how the environment and actions work?\n",
        "- What do you think the actions mean?\n",
        "- When the agent performs the same action from the same place (same observation), does the same outcome happen every time?"
      ]
    },
    {
      "cell_type": "markdown",
      "metadata": {
        "id": "ztuXZN_-u8C1"
      },
      "source": [
        "The environment has some squares that always end the game (`H` in the render), some that don't (`F`), and one that is presumably the reward, if you get to it.\n",
        "\n",
        "The actions seem like up, down, left right. But they also seem stochastic. There seems to be a 1/3 chance of going into 3 different squares with each action. "
      ]
    },
    {
      "cell_type": "markdown",
      "metadata": {
        "id": "LEBXzvvwu8C2"
      },
      "source": [
        "# Part 1: Gather data\n",
        "\n",
        "We want to build an intelligent actor but first we have to gather data on which actions are useful.\n",
        "\n",
        "Use the above code as reference. Run a *random* agent through 1,000 or more episodes and collect data on each step.\n",
        "\n",
        "I recommend you store this data in a pandas dataframe. Each row should be a step. Your features should include the following features or similar \n",
        "\n",
        "- `observation` the observation at the beginning of the step (before acting!)\n",
        "- `action` the action randomly sampled\n",
        "- `current_reward` the reward received after the action was performed\n",
        "\n",
        "After you generate this data, it is recommended that you compute a column (e.g. `total_reward` that is the total reward for the entire episode).\n",
        "\n",
        "At the end of the data gathering, you should be able to use pandas (or similar) to calculate the average total reward *per episode* of the random agent. The average score should be 1-2%, meaning that the agent very rarely wins.\n",
        "\n",
        "\n",
        "## Hints\n",
        "\n",
        "- `initial_observation = env.reset()` starts a new episode and returns the initial observation.\n",
        "- `new_observation, reward, done, info = env.step(new_action)` executes one action and returns the following observation. You may look at the documentation for the step method if you are curious about what it does. \n",
        "- `done != True` until the game is finished.\n",
        "- we are trying to maximize the reward *per episode*. Our first game gives 0 reward unless the agent travels to the goal.\n",
        "- `env.action_space.n` gives the number of possible actions in the environment. `env.action_space.sample()` allows the agent to randomly sample an action.\n",
        "- `env.observation_space.n` gives the number of possible states in the environment. "
      ]
    },
    {
      "cell_type": "code",
      "metadata": {
        "id": "quJOYRBZu8C3"
      },
      "source": [
        "env = gym.make('FrozenLake-v0')\n",
        "\n",
        "num_episodes = 40000\n",
        "\n",
        "life_memory = []\n",
        "for i in range(num_episodes):\n",
        "    \n",
        "    # start a new episode and record all the memories\n",
        "    old_observation = env.reset()\n",
        "    done = False\n",
        "    tot_reward = 0\n",
        "    ep_memory = []\n",
        "    while not done:\n",
        "        new_action = env.action_space.sample()\n",
        "        observation, reward, done, info = env.step(new_action)\n",
        "        tot_reward += reward\n",
        "        \n",
        "        ep_memory.append({\n",
        "            \"observation\": old_observation,\n",
        "            \"action\": new_action,\n",
        "            \"reward\": reward,\n",
        "            \"episode\": i,\n",
        "        })\n",
        "        old_observation = observation\n",
        "        \n",
        "    # incorporate total reward\n",
        "    num_steps = len(ep_memory)\n",
        "    for i, ep_mem in enumerate(ep_memory):\n",
        "        ep_mem[\"tot_reward\"] = tot_reward\n",
        "        ep_mem[\"decay_reward\"] = i*tot_reward/num_steps\n",
        "        \n",
        "    life_memory.extend(ep_memory)\n",
        "    \n",
        "memory_df = pandas.DataFrame(life_memory)"
      ],
      "execution_count": 8,
      "outputs": []
    },
    {
      "cell_type": "code",
      "metadata": {
        "colab": {
          "base_uri": "https://localhost:8080/",
          "height": 297
        },
        "id": "nO2ITKgRu8C4",
        "outputId": "415f9612-c0e1-4352-cd51-f0a679449f32"
      },
      "source": [
        "memory_df.describe()"
      ],
      "execution_count": 9,
      "outputs": [
        {
          "output_type": "execute_result",
          "data": {
            "text/html": [
              "<div>\n",
              "<style scoped>\n",
              "    .dataframe tbody tr th:only-of-type {\n",
              "        vertical-align: middle;\n",
              "    }\n",
              "\n",
              "    .dataframe tbody tr th {\n",
              "        vertical-align: top;\n",
              "    }\n",
              "\n",
              "    .dataframe thead th {\n",
              "        text-align: right;\n",
              "    }\n",
              "</style>\n",
              "<table border=\"1\" class=\"dataframe\">\n",
              "  <thead>\n",
              "    <tr style=\"text-align: right;\">\n",
              "      <th></th>\n",
              "      <th>observation</th>\n",
              "      <th>action</th>\n",
              "      <th>reward</th>\n",
              "      <th>episode</th>\n",
              "      <th>tot_reward</th>\n",
              "      <th>decay_reward</th>\n",
              "    </tr>\n",
              "  </thead>\n",
              "  <tbody>\n",
              "    <tr>\n",
              "      <th>count</th>\n",
              "      <td>306936.000000</td>\n",
              "      <td>306936.000000</td>\n",
              "      <td>306936.000000</td>\n",
              "      <td>306936.000000</td>\n",
              "      <td>306936.000000</td>\n",
              "      <td>306936.000000</td>\n",
              "    </tr>\n",
              "    <tr>\n",
              "      <th>mean</th>\n",
              "      <td>2.235482</td>\n",
              "      <td>1.498843</td>\n",
              "      <td>0.001802</td>\n",
              "      <td>19987.422055</td>\n",
              "      <td>0.023327</td>\n",
              "      <td>0.010763</td>\n",
              "    </tr>\n",
              "    <tr>\n",
              "      <th>std</th>\n",
              "      <td>3.008296</td>\n",
              "      <td>1.117478</td>\n",
              "      <td>0.042408</td>\n",
              "      <td>11571.260171</td>\n",
              "      <td>0.150941</td>\n",
              "      <td>0.082379</td>\n",
              "    </tr>\n",
              "    <tr>\n",
              "      <th>min</th>\n",
              "      <td>0.000000</td>\n",
              "      <td>0.000000</td>\n",
              "      <td>0.000000</td>\n",
              "      <td>0.000000</td>\n",
              "      <td>0.000000</td>\n",
              "      <td>0.000000</td>\n",
              "    </tr>\n",
              "    <tr>\n",
              "      <th>25%</th>\n",
              "      <td>0.000000</td>\n",
              "      <td>0.000000</td>\n",
              "      <td>0.000000</td>\n",
              "      <td>9956.750000</td>\n",
              "      <td>0.000000</td>\n",
              "      <td>0.000000</td>\n",
              "    </tr>\n",
              "    <tr>\n",
              "      <th>50%</th>\n",
              "      <td>1.000000</td>\n",
              "      <td>1.000000</td>\n",
              "      <td>0.000000</td>\n",
              "      <td>19993.000000</td>\n",
              "      <td>0.000000</td>\n",
              "      <td>0.000000</td>\n",
              "    </tr>\n",
              "    <tr>\n",
              "      <th>75%</th>\n",
              "      <td>4.000000</td>\n",
              "      <td>2.000000</td>\n",
              "      <td>0.000000</td>\n",
              "      <td>29997.000000</td>\n",
              "      <td>0.000000</td>\n",
              "      <td>0.000000</td>\n",
              "    </tr>\n",
              "    <tr>\n",
              "      <th>max</th>\n",
              "      <td>14.000000</td>\n",
              "      <td>3.000000</td>\n",
              "      <td>1.000000</td>\n",
              "      <td>39999.000000</td>\n",
              "      <td>1.000000</td>\n",
              "      <td>0.973684</td>\n",
              "    </tr>\n",
              "  </tbody>\n",
              "</table>\n",
              "</div>"
            ],
            "text/plain": [
              "         observation         action  ...     tot_reward   decay_reward\n",
              "count  306936.000000  306936.000000  ...  306936.000000  306936.000000\n",
              "mean        2.235482       1.498843  ...       0.023327       0.010763\n",
              "std         3.008296       1.117478  ...       0.150941       0.082379\n",
              "min         0.000000       0.000000  ...       0.000000       0.000000\n",
              "25%         0.000000       0.000000  ...       0.000000       0.000000\n",
              "50%         1.000000       1.000000  ...       0.000000       0.000000\n",
              "75%         4.000000       2.000000  ...       0.000000       0.000000\n",
              "max        14.000000       3.000000  ...       1.000000       0.973684\n",
              "\n",
              "[8 rows x 6 columns]"
            ]
          },
          "metadata": {
            "tags": []
          },
          "execution_count": 9
        }
      ]
    },
    {
      "cell_type": "code",
      "metadata": {
        "colab": {
          "base_uri": "https://localhost:8080/"
        },
        "id": "rvfqnPvCu8C4",
        "outputId": "f58793c4-0405-4b44-a385-5d1107690ac3"
      },
      "source": [
        "memory_df.shape"
      ],
      "execution_count": 10,
      "outputs": [
        {
          "output_type": "execute_result",
          "data": {
            "text/plain": [
              "(306936, 6)"
            ]
          },
          "metadata": {
            "tags": []
          },
          "execution_count": 10
        }
      ]
    },
    {
      "cell_type": "code",
      "metadata": {
        "colab": {
          "base_uri": "https://localhost:8080/"
        },
        "id": "bTyXjB_eu8C5",
        "outputId": "6fae176e-d36e-49f3-8a78-da6b25021ca3"
      },
      "source": [
        "memory_df.groupby(\"episode\").reward.sum().mean()"
      ],
      "execution_count": 11,
      "outputs": [
        {
          "output_type": "execute_result",
          "data": {
            "text/plain": [
              "0.013825"
            ]
          },
          "metadata": {
            "tags": []
          },
          "execution_count": 11
        }
      ]
    },
    {
      "cell_type": "markdown",
      "metadata": {
        "id": "9b_H3-hZu8C5"
      },
      "source": [
        "# Step 2: Predict\n",
        "\n",
        "Now that you have a bunch of data, put it into a format that you can model. The goal here is to guide the behavior of our agent. Our agent will be given an observation and need to decide between the possible actions given that observation and the prediction of the model. \n",
        "\n",
        "Remember, you're a data scientist! Be creative. \n",
        "\n",
        "It might be helpful to work backwards. Ultimately, you will write something like:\n",
        "\n",
        "```\n",
        "def convert_to_row(obs, act):\n",
        "    # expertly written code\n",
        "    return row_of_obs_act\n",
        "    \n",
        "rows = [convert_to_row(current_obs, act) for act in possible_actions]\n",
        "\n",
        "pred_outcome = model.predict(rows)\n",
        "```\n",
        "\n",
        "So, you will need to design a quantity that you can ask your model to predict for every possible action-observation pair. Think a bit about what this quantity should be. Should the model try to predict the immediate reward for each action? If so, how would it know where to go at the beginning of each episode when all moves give zero reward but when some moves bring it closer to the goal than others. "
      ]
    },
    {
      "cell_type": "code",
      "metadata": {
        "colab": {
          "base_uri": "https://localhost:8080/"
        },
        "id": "dAj2jXVdu8C5",
        "outputId": "8a196467-ae51-4d5f-8d6a-da66e87883bd"
      },
      "source": [
        "from sklearn.ensemble import RandomForestRegressor, ExtraTreesRegressor\n",
        "from sklearn.svm import SVR\n",
        "\n",
        "model = ExtraTreesRegressor(n_estimators=50)\n",
        "# model = SVR()\n",
        "y = 0.5*memory_df.reward + 0.1*memory_df.decay_reward + memory_df.tot_reward\n",
        "x = memory_df[[\"observation\", \"action\"]]\n",
        "model.fit(x, y)"
      ],
      "execution_count": 12,
      "outputs": [
        {
          "output_type": "execute_result",
          "data": {
            "text/plain": [
              "ExtraTreesRegressor(bootstrap=False, ccp_alpha=0.0, criterion='mse',\n",
              "                    max_depth=None, max_features='auto', max_leaf_nodes=None,\n",
              "                    max_samples=None, min_impurity_decrease=0.0,\n",
              "                    min_impurity_split=None, min_samples_leaf=1,\n",
              "                    min_samples_split=2, min_weight_fraction_leaf=0.0,\n",
              "                    n_estimators=50, n_jobs=None, oob_score=False,\n",
              "                    random_state=None, verbose=0, warm_start=False)"
            ]
          },
          "metadata": {
            "tags": []
          },
          "execution_count": 12
        }
      ]
    },
    {
      "cell_type": "markdown",
      "metadata": {
        "id": "vv3sR3q2u8C6"
      },
      "source": [
        "# Step 3: Act\n",
        "\n",
        "Now that you have a model that predicts the desired behavior, let's act on it! Modify the code you used to gather data so that you replace the random decision with an intelligent one.\n",
        "\n",
        "We started out winning ~1.5% of the games with the random agent. How well can you do? You should be able to get your model to do at least 10x better (so 15%). Can you get ~50%?\n",
        "\n",
        "If you're having trouble, tune your model. Try different representations of the observation and action spaces. Try different models. "
      ]
    },
    {
      "cell_type": "code",
      "metadata": {
        "colab": {
          "base_uri": "https://localhost:8080/"
        },
        "id": "AjSYI0Pru8C6",
        "outputId": "0acb9622-58df-4fad-cef8-9aac8fc911b0"
      },
      "source": [
        "model = RandomForestRegressor()\n",
        "y = 1*memory_df.reward + memory_df.tot_reward + .1*memory_df.decay_reward\n",
        "x = memory_df[[\"observation\", \"action\"]]\n",
        "model.fit(x, y)\n",
        "\n",
        "num_episodes = 500\n",
        "random_per = 0\n",
        "\n",
        "life_memory = []\n",
        "for i in range(num_episodes):\n",
        "    \n",
        "    # start a new episode and record all the memories\n",
        "    old_observation = env.reset()\n",
        "    done = False\n",
        "    tot_reward = 0\n",
        "    ep_memory = []\n",
        "    while not done:\n",
        "        \n",
        "        \n",
        "        if np.random.rand() < random_per:\n",
        "            new_action = env.action_space.sample()\n",
        "        else:\n",
        "            pred_in = [[old_observation,i] for i in range(4)]\n",
        "            new_action = np.argmax(model.predict(pred_in))\n",
        "        observation, reward, done, info = env.step(new_action)\n",
        "        tot_reward += reward\n",
        "        \n",
        "        ep_memory.append({\n",
        "            \"observation\": old_observation,\n",
        "            \"action\": new_action,\n",
        "            \"reward\": reward,\n",
        "            \"episode\": i,\n",
        "        })\n",
        "        old_observation = observation\n",
        "        \n",
        "    # incorporate total reward\n",
        "    for ep_mem in ep_memory:\n",
        "        ep_mem[\"tot_reward\"] = tot_reward\n",
        "        \n",
        "    life_memory.extend(ep_memory)\n",
        "    \n",
        "memory_df2 = pandas.DataFrame(life_memory)\n",
        "\n",
        "# rf.fit(memory_df[[\"observation\", \"action\"]], memory_df[\"comb_reward\"])\n",
        "\n",
        "# score\n",
        "# much better!\n",
        "memory_df2.groupby(\"episode\").reward.sum().mean()"
      ],
      "execution_count": 13,
      "outputs": [
        {
          "output_type": "execute_result",
          "data": {
            "text/plain": [
              "0.24"
            ]
          },
          "metadata": {
            "tags": []
          },
          "execution_count": 13
        }
      ]
    },
    {
      "cell_type": "code",
      "metadata": {
        "id": "xSm5lCqsu8C7"
      },
      "source": [
        "y = .1*memory_df.reward + 1*memory_df.decay_reward + 1*memory_df.tot_reward"
      ],
      "execution_count": 14,
      "outputs": []
    },
    {
      "cell_type": "markdown",
      "metadata": {
        "id": "RapldzYtu8C7"
      },
      "source": [
        "# Extension: Pole cart\n",
        "\n",
        "If time permits, try your hand at pole cart (`env = gym.make('CartPole-v0')`).\n",
        "\n",
        "Notice that the observation space is quite different. It's no longer discrete--instead we have 4 continuous values. You'll have to store these differently from how you did with Frozenlake.\n",
        "\n",
        "My random actor actually does surprisingly well (avg ~22). But my intelligent agent is able to score ~99. Can you beat me? "
      ]
    },
    {
      "cell_type": "markdown",
      "metadata": {
        "id": "nQDxEXmZu8C7"
      },
      "source": [
        "# Pole cart"
      ]
    },
    {
      "cell_type": "code",
      "metadata": {
        "id": "qomkc-5Uu8C8"
      },
      "source": [
        "env = gym.make('CartPole-v0')"
      ],
      "execution_count": 15,
      "outputs": []
    },
    {
      "cell_type": "code",
      "metadata": {
        "colab": {
          "base_uri": "https://localhost:8080/"
        },
        "id": "0TY2RY1Uu8C8",
        "outputId": "439843d7-94ed-4c08-c228-7bb779e7ac10"
      },
      "source": [
        "# now we can build a toy world!\n",
        "num_episodes = 1000\n",
        "\n",
        "life_memory = []\n",
        "for i in range(num_episodes):\n",
        "    \n",
        "    # start a new episode and record all the memories\n",
        "    old_observation = env.reset()\n",
        "    done = False\n",
        "    tot_reward = 0\n",
        "    ep_memory = []\n",
        "    while not done:\n",
        "        new_action = env.action_space.sample()\n",
        "        observation, reward, done, info = env.step(new_action)\n",
        "        tot_reward += reward\n",
        "        \n",
        "        ep_memory.append({\n",
        "            \"obs0\": old_observation[0],\n",
        "            \"obs1\": old_observation[1],\n",
        "            \"obs2\": old_observation[2],\n",
        "            \"obs3\": old_observation[3],\n",
        "            \"action\": new_action,\n",
        "            \"reward\": reward,\n",
        "            \"episode\": i,\n",
        "        })\n",
        "        old_observation = observation\n",
        "        \n",
        "    # incorporate total reward\n",
        "    for ep_mem in ep_memory:\n",
        "        ep_mem[\"tot_reward\"] = tot_reward\n",
        "        \n",
        "    life_memory.extend(ep_memory)\n",
        "    \n",
        "memory_df = pandas.DataFrame(life_memory)\n",
        "\n",
        "memory_df.groupby(\"episode\").reward.sum().mean()"
      ],
      "execution_count": 16,
      "outputs": [
        {
          "output_type": "execute_result",
          "data": {
            "text/plain": [
              "21.922"
            ]
          },
          "metadata": {
            "tags": []
          },
          "execution_count": 16
        }
      ]
    },
    {
      "cell_type": "code",
      "metadata": {
        "colab": {
          "base_uri": "https://localhost:8080/",
          "height": 297
        },
        "id": "VywYY4Xhu8C8",
        "outputId": "50f58bc7-6761-42e7-d6fa-01f59f38a18b"
      },
      "source": [
        "memory_df.describe()"
      ],
      "execution_count": 17,
      "outputs": [
        {
          "output_type": "execute_result",
          "data": {
            "text/html": [
              "<div>\n",
              "<style scoped>\n",
              "    .dataframe tbody tr th:only-of-type {\n",
              "        vertical-align: middle;\n",
              "    }\n",
              "\n",
              "    .dataframe tbody tr th {\n",
              "        vertical-align: top;\n",
              "    }\n",
              "\n",
              "    .dataframe thead th {\n",
              "        text-align: right;\n",
              "    }\n",
              "</style>\n",
              "<table border=\"1\" class=\"dataframe\">\n",
              "  <thead>\n",
              "    <tr style=\"text-align: right;\">\n",
              "      <th></th>\n",
              "      <th>obs0</th>\n",
              "      <th>obs1</th>\n",
              "      <th>obs2</th>\n",
              "      <th>obs3</th>\n",
              "      <th>action</th>\n",
              "      <th>reward</th>\n",
              "      <th>episode</th>\n",
              "      <th>tot_reward</th>\n",
              "    </tr>\n",
              "  </thead>\n",
              "  <tbody>\n",
              "    <tr>\n",
              "      <th>count</th>\n",
              "      <td>21922.000000</td>\n",
              "      <td>21922.000000</td>\n",
              "      <td>21922.000000</td>\n",
              "      <td>21922.000000</td>\n",
              "      <td>21922.000000</td>\n",
              "      <td>21922.0</td>\n",
              "      <td>21922.000000</td>\n",
              "      <td>21922.000000</td>\n",
              "    </tr>\n",
              "    <tr>\n",
              "      <th>mean</th>\n",
              "      <td>-0.000186</td>\n",
              "      <td>-0.001217</td>\n",
              "      <td>0.001785</td>\n",
              "      <td>0.011166</td>\n",
              "      <td>0.500274</td>\n",
              "      <td>1.0</td>\n",
              "      <td>490.590685</td>\n",
              "      <td>27.370860</td>\n",
              "    </tr>\n",
              "    <tr>\n",
              "      <th>std</th>\n",
              "      <td>0.077568</td>\n",
              "      <td>0.522327</td>\n",
              "      <td>0.091397</td>\n",
              "      <td>0.786088</td>\n",
              "      <td>0.500011</td>\n",
              "      <td>0.0</td>\n",
              "      <td>286.317736</td>\n",
              "      <td>13.611294</td>\n",
              "    </tr>\n",
              "    <tr>\n",
              "      <th>min</th>\n",
              "      <td>-0.556858</td>\n",
              "      <td>-2.247306</td>\n",
              "      <td>-0.209427</td>\n",
              "      <td>-3.198473</td>\n",
              "      <td>0.000000</td>\n",
              "      <td>1.0</td>\n",
              "      <td>0.000000</td>\n",
              "      <td>8.000000</td>\n",
              "    </tr>\n",
              "    <tr>\n",
              "      <th>25%</th>\n",
              "      <td>-0.040400</td>\n",
              "      <td>-0.356457</td>\n",
              "      <td>-0.048458</td>\n",
              "      <td>-0.505380</td>\n",
              "      <td>0.000000</td>\n",
              "      <td>1.0</td>\n",
              "      <td>239.000000</td>\n",
              "      <td>17.000000</td>\n",
              "    </tr>\n",
              "    <tr>\n",
              "      <th>50%</th>\n",
              "      <td>-0.001594</td>\n",
              "      <td>-0.005209</td>\n",
              "      <td>0.000311</td>\n",
              "      <td>0.008124</td>\n",
              "      <td>1.000000</td>\n",
              "      <td>1.0</td>\n",
              "      <td>488.000000</td>\n",
              "      <td>24.000000</td>\n",
              "    </tr>\n",
              "    <tr>\n",
              "      <th>75%</th>\n",
              "      <td>0.039827</td>\n",
              "      <td>0.359008</td>\n",
              "      <td>0.054087</td>\n",
              "      <td>0.534908</td>\n",
              "      <td>1.000000</td>\n",
              "      <td>1.0</td>\n",
              "      <td>731.000000</td>\n",
              "      <td>35.000000</td>\n",
              "    </tr>\n",
              "    <tr>\n",
              "      <th>max</th>\n",
              "      <td>0.679170</td>\n",
              "      <td>2.687083</td>\n",
              "      <td>0.209396</td>\n",
              "      <td>2.662516</td>\n",
              "      <td>1.000000</td>\n",
              "      <td>1.0</td>\n",
              "      <td>999.000000</td>\n",
              "      <td>77.000000</td>\n",
              "    </tr>\n",
              "  </tbody>\n",
              "</table>\n",
              "</div>"
            ],
            "text/plain": [
              "               obs0          obs1  ...       episode    tot_reward\n",
              "count  21922.000000  21922.000000  ...  21922.000000  21922.000000\n",
              "mean      -0.000186     -0.001217  ...    490.590685     27.370860\n",
              "std        0.077568      0.522327  ...    286.317736     13.611294\n",
              "min       -0.556858     -2.247306  ...      0.000000      8.000000\n",
              "25%       -0.040400     -0.356457  ...    239.000000     17.000000\n",
              "50%       -0.001594     -0.005209  ...    488.000000     24.000000\n",
              "75%        0.039827      0.359008  ...    731.000000     35.000000\n",
              "max        0.679170      2.687083  ...    999.000000     77.000000\n",
              "\n",
              "[8 rows x 8 columns]"
            ]
          },
          "metadata": {
            "tags": []
          },
          "execution_count": 17
        }
      ]
    },
    {
      "cell_type": "code",
      "metadata": {
        "colab": {
          "base_uri": "https://localhost:8080/"
        },
        "id": "3Z4F-Ajwu8C9",
        "outputId": "2ec12f46-a508-47a0-f606-ece8e776aadd"
      },
      "source": [
        "from sklearn.ensemble import RandomForestRegressor, AdaBoostRegressor, ExtraTreesRegressor\n",
        "\n",
        "model = ExtraTreesRegressor(n_estimators=50)\n",
        "\n",
        "memory_df[\"comb_reward\"] = .5*memory_df.reward + memory_df.tot_reward\n",
        "model.fit(memory_df[[\"obs0\", \"obs1\", \"obs2\", \"obs3\", \"action\"]], memory_df.comb_reward)"
      ],
      "execution_count": 18,
      "outputs": [
        {
          "output_type": "execute_result",
          "data": {
            "text/plain": [
              "ExtraTreesRegressor(bootstrap=False, ccp_alpha=0.0, criterion='mse',\n",
              "                    max_depth=None, max_features='auto', max_leaf_nodes=None,\n",
              "                    max_samples=None, min_impurity_decrease=0.0,\n",
              "                    min_impurity_split=None, min_samples_leaf=1,\n",
              "                    min_samples_split=2, min_weight_fraction_leaf=0.0,\n",
              "                    n_estimators=50, n_jobs=None, oob_score=False,\n",
              "                    random_state=None, verbose=0, warm_start=False)"
            ]
          },
          "metadata": {
            "tags": []
          },
          "execution_count": 18
        }
      ]
    },
    {
      "cell_type": "code",
      "metadata": {
        "colab": {
          "base_uri": "https://localhost:8080/"
        },
        "id": "9zKfXpmIu8C9",
        "outputId": "a34f1816-3d48-4ea9-8079-96f50dc46ab0"
      },
      "source": [
        "num_episodes = 100\n",
        "random_per = 0\n",
        "\n",
        "life_memory = []\n",
        "for i in range(num_episodes):\n",
        "    \n",
        "    # start a new episode and record all the memories\n",
        "    old_observation = env.reset()\n",
        "    done = False\n",
        "    tot_reward = 0\n",
        "    ep_memory = []\n",
        "    while not done:\n",
        "        \n",
        "        \n",
        "        if np.random.rand() < random_per:\n",
        "            new_action = env.action_space.sample()\n",
        "        else:\n",
        "            pred_in = [list(old_observation)+[i] for i in range(2)]\n",
        "            new_action = np.argmax(model.predict(pred_in))\n",
        "        observation, reward, done, info = env.step(new_action)\n",
        "        tot_reward += reward\n",
        "        \n",
        "        ep_memory.append({\n",
        "            \"obs0\": old_observation[0],\n",
        "            \"obs1\": old_observation[1],\n",
        "            \"obs2\": old_observation[2],\n",
        "            \"obs3\": old_observation[3],\n",
        "            \"action\": new_action,\n",
        "            \"reward\": reward,\n",
        "            \"episode\": i,\n",
        "        })\n",
        "        old_observation = observation\n",
        "        \n",
        "    # incorporate total reward\n",
        "    for ep_mem in ep_memory:\n",
        "        ep_mem[\"tot_reward\"] = tot_reward\n",
        "        \n",
        "    life_memory.extend(ep_memory)\n",
        "    \n",
        "memory_df2 = pandas.DataFrame(life_memory)\n",
        "memory_df2[\"comb_reward\"] = memory_df2.reward + memory_df2.tot_reward\n",
        "\n",
        "# score\n",
        "# much better!\n",
        "memory_df2.groupby(\"episode\").reward.sum().mean()"
      ],
      "execution_count": 19,
      "outputs": [
        {
          "output_type": "execute_result",
          "data": {
            "text/plain": [
              "79.78"
            ]
          },
          "metadata": {
            "tags": []
          },
          "execution_count": 19
        }
      ]
    },
    {
      "cell_type": "markdown",
      "metadata": {
        "id": "z7vekID2u8C9"
      },
      "source": [
        "---\n",
        "### Machine Learning Foundation (C) 2020 IBM Corporation"
      ]
    }
  ]
}