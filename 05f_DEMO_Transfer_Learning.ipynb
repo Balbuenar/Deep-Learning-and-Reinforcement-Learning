{
  "nbformat": 4,
  "nbformat_minor": 0,
  "metadata": {
    "kernelspec": {
      "display_name": "Python 3",
      "language": "python",
      "name": "python3"
    },
    "language_info": {
      "codemirror_mode": {
        "name": "ipython",
        "version": 3
      },
      "file_extension": ".py",
      "mimetype": "text/x-python",
      "name": "python",
      "nbconvert_exporter": "python",
      "pygments_lexer": "ipython3",
      "version": "3.7.4"
    },
    "colab": {
      "name": "05f_DEMO_Transfer_Learning.ipynb",
      "provenance": [],
      "include_colab_link": true
    }
  },
  "cells": [
    {
      "cell_type": "markdown",
      "metadata": {
        "id": "view-in-github",
        "colab_type": "text"
      },
      "source": [
        "<a href=\"https://colab.research.google.com/github/Balbuenar/Deep-Learning-and-Reinforcement-Learning/blob/main/05f_DEMO_Transfer_Learning.ipynb\" target=\"_parent\"><img src=\"https://colab.research.google.com/assets/colab-badge.svg\" alt=\"Open In Colab\"/></a>"
      ]
    },
    {
      "cell_type": "markdown",
      "metadata": {
        "run_control": {
          "marked": true
        },
        "id": "C93ubqQU_NTp"
      },
      "source": [
        "# Machine Learning Foundation\n",
        "\n",
        "## Course 5, Part g: Transfer Learning DEMO"
      ]
    },
    {
      "cell_type": "markdown",
      "metadata": {
        "id": "xf19umwo_NT0"
      },
      "source": [
        "For this exercise, we will use the well-known MNIST digit data. To illustrate the power and concept of transfer learning, we will train a CNN on just the digits 5,6,7,8,9.  Then we will train just the last layer(s) of the network on the digits 0,1,2,3,4 and see how well the features learned on 5-9 help with classifying 0-4.\n",
        "\n",
        "Adapted from https://github.com/fchollet/keras/blob/master/examples/mnist_transfer_cnn.py"
      ]
    },
    {
      "cell_type": "code",
      "metadata": {
        "id": "Cndfr5Lv_NT1"
      },
      "source": [
        "import datetime\n",
        "import keras\n",
        "from keras.datasets import mnist\n",
        "from keras.models import Sequential\n",
        "from keras.layers import Dense, Dropout, Activation, Flatten\n",
        "from keras.layers import Conv2D, MaxPooling2D\n",
        "from keras import backend as K\n",
        "#from tensorflow import keras\n",
        "#from tensorflow.keras.datasets import mnist\n",
        "#from tensorflow.keras.models import Sequential\n",
        "#from tensorflow.keras.layers import Dense, Dropout, Activation, Flatten\n",
        "#from tensorflow.keras.layers import Conv2D, MaxPooling2D\n",
        "#from tensorflow.keras import backend as K"
      ],
      "execution_count": 1,
      "outputs": []
    },
    {
      "cell_type": "code",
      "metadata": {
        "id": "kQMR5-oG_NT2"
      },
      "source": [
        "#used to help some of the timing functions\n",
        "now = datetime.datetime.now"
      ],
      "execution_count": 2,
      "outputs": []
    },
    {
      "cell_type": "code",
      "metadata": {
        "id": "KzB_8418_NT2"
      },
      "source": [
        "# set some parameters\n",
        "batch_size = 128\n",
        "num_classes = 5\n",
        "epochs = 5"
      ],
      "execution_count": 3,
      "outputs": []
    },
    {
      "cell_type": "code",
      "metadata": {
        "id": "RRneqx3v_NT3"
      },
      "source": [
        "# set some more parameters\n",
        "img_rows, img_cols = 28, 28\n",
        "filters = 32\n",
        "pool_size = 2\n",
        "kernel_size = 3"
      ],
      "execution_count": 4,
      "outputs": []
    },
    {
      "cell_type": "code",
      "metadata": {
        "id": "C7CXA5pc_NT3"
      },
      "source": [
        "## This just handles some variability in how the input data is loaded\n",
        "\n",
        "if K.image_data_format() == 'channels_first':\n",
        "    input_shape = (1, img_rows, img_cols)\n",
        "else:\n",
        "    input_shape = (img_rows, img_cols, 1)"
      ],
      "execution_count": 5,
      "outputs": []
    },
    {
      "cell_type": "code",
      "metadata": {
        "id": "TpZ09opI_NT4"
      },
      "source": [
        "## To simplify things, write a function to include all the training steps\n",
        "## As input, function takes a model, training set, test set, and the number of classes\n",
        "## Inside the model object will be the state about which layers we are freezing and which we are training\n",
        "\n",
        "def train_model(model, train, test, num_classes):\n",
        "    x_train = train[0].reshape((train[0].shape[0],) + input_shape)\n",
        "    x_test = test[0].reshape((test[0].shape[0],) + input_shape)\n",
        "    x_train = x_train.astype('float32')\n",
        "    x_test = x_test.astype('float32')\n",
        "    x_train /= 255\n",
        "    x_test /= 255\n",
        "    print('x_train shape:', x_train.shape)\n",
        "    print(x_train.shape[0], 'train samples')\n",
        "    print(x_test.shape[0], 'test samples')\n",
        "\n",
        "    # convert class vectors to binary class matrices\n",
        "    y_train = keras.utils.to_categorical(train[1], num_classes)\n",
        "    y_test = keras.utils.to_categorical(test[1], num_classes)\n",
        "\n",
        "    model.compile(loss='categorical_crossentropy',\n",
        "                  optimizer='adadelta',\n",
        "                  metrics=['accuracy'])\n",
        "\n",
        "    t = now()\n",
        "    model.fit(x_train, y_train,\n",
        "              batch_size=batch_size,\n",
        "              epochs=epochs,\n",
        "              verbose=1,\n",
        "              validation_data=(x_test, y_test))\n",
        "    print('Training time: %s' % (now() - t))\n",
        "\n",
        "    score = model.evaluate(x_test, y_test, verbose=0)\n",
        "    print('Test score:', score[0])\n",
        "    print('Test accuracy:', score[1])"
      ],
      "execution_count": 6,
      "outputs": []
    },
    {
      "cell_type": "code",
      "metadata": {
        "colab": {
          "base_uri": "https://localhost:8080/"
        },
        "id": "7HnVeeTh_NT4",
        "outputId": "da2b5454-5a39-4314-e43d-20ff51b81037"
      },
      "source": [
        "# the data, shuffled and split between train and test sets\n",
        "(x_train, y_train), (x_test, y_test) = mnist.load_data()\n",
        "\n",
        "# create two datasets: one with digits below 5 and one with 5 and above\n",
        "x_train_lt5 = x_train[y_train < 5]\n",
        "y_train_lt5 = y_train[y_train < 5]\n",
        "x_test_lt5 = x_test[y_test < 5]\n",
        "y_test_lt5 = y_test[y_test < 5]\n",
        "\n",
        "x_train_gte5 = x_train[y_train >= 5]\n",
        "y_train_gte5 = y_train[y_train >= 5] - 5\n",
        "x_test_gte5 = x_test[y_test >= 5]\n",
        "y_test_gte5 = y_test[y_test >= 5] - 5"
      ],
      "execution_count": 7,
      "outputs": [
        {
          "output_type": "stream",
          "text": [
            "Downloading data from https://storage.googleapis.com/tensorflow/tf-keras-datasets/mnist.npz\n",
            "11493376/11490434 [==============================] - 0s 0us/step\n"
          ],
          "name": "stdout"
        }
      ]
    },
    {
      "cell_type": "code",
      "metadata": {
        "id": "g1svyyJi_NT5"
      },
      "source": [
        "# Define the \"feature\" layers.  These are the early layers that we expect will \"transfer\"\n",
        "# to a new problem.  We will freeze these layers during the fine-tuning process\n",
        "\n",
        "feature_layers = [\n",
        "    Conv2D(filters, kernel_size,\n",
        "           padding='valid',\n",
        "           input_shape=input_shape),\n",
        "    Activation('relu'),\n",
        "    Conv2D(filters, kernel_size),\n",
        "    Activation('relu'),\n",
        "    MaxPooling2D(pool_size=pool_size),\n",
        "    Dropout(0.25),\n",
        "    Flatten(),\n",
        "]"
      ],
      "execution_count": 8,
      "outputs": []
    },
    {
      "cell_type": "code",
      "metadata": {
        "id": "Rg2eox6C_NT6"
      },
      "source": [
        "# Define the \"classification\" layers.  These are the later layers that predict the specific classes from the features\n",
        "# learned by the feature layers.  This is the part of the model that needs to be re-trained for a new problem\n",
        "\n",
        "classification_layers = [\n",
        "    Dense(128),\n",
        "    Activation('relu'),\n",
        "    Dropout(0.5),\n",
        "    Dense(num_classes),\n",
        "    Activation('softmax')\n",
        "]"
      ],
      "execution_count": 9,
      "outputs": []
    },
    {
      "cell_type": "code",
      "metadata": {
        "id": "0QNHP0Cs_NT6"
      },
      "source": [
        "# We create our model by combining the two sets of layers as follows\n",
        "model = Sequential(feature_layers + classification_layers)"
      ],
      "execution_count": 10,
      "outputs": []
    },
    {
      "cell_type": "code",
      "metadata": {
        "colab": {
          "base_uri": "https://localhost:8080/"
        },
        "id": "4y849BeN_NT6",
        "outputId": "de2137e1-52fc-4cce-f326-ed260edb04f2"
      },
      "source": [
        "# Let's take a look\n",
        "model.summary()"
      ],
      "execution_count": 11,
      "outputs": [
        {
          "output_type": "stream",
          "text": [
            "Model: \"sequential\"\n",
            "_________________________________________________________________\n",
            "Layer (type)                 Output Shape              Param #   \n",
            "=================================================================\n",
            "conv2d (Conv2D)              (None, 26, 26, 32)        320       \n",
            "_________________________________________________________________\n",
            "activation (Activation)      (None, 26, 26, 32)        0         \n",
            "_________________________________________________________________\n",
            "conv2d_1 (Conv2D)            (None, 24, 24, 32)        9248      \n",
            "_________________________________________________________________\n",
            "activation_1 (Activation)    (None, 24, 24, 32)        0         \n",
            "_________________________________________________________________\n",
            "max_pooling2d (MaxPooling2D) (None, 12, 12, 32)        0         \n",
            "_________________________________________________________________\n",
            "dropout (Dropout)            (None, 12, 12, 32)        0         \n",
            "_________________________________________________________________\n",
            "flatten (Flatten)            (None, 4608)              0         \n",
            "_________________________________________________________________\n",
            "dense (Dense)                (None, 128)               589952    \n",
            "_________________________________________________________________\n",
            "activation_2 (Activation)    (None, 128)               0         \n",
            "_________________________________________________________________\n",
            "dropout_1 (Dropout)          (None, 128)               0         \n",
            "_________________________________________________________________\n",
            "dense_1 (Dense)              (None, 5)                 645       \n",
            "_________________________________________________________________\n",
            "activation_3 (Activation)    (None, 5)                 0         \n",
            "=================================================================\n",
            "Total params: 600,165\n",
            "Trainable params: 600,165\n",
            "Non-trainable params: 0\n",
            "_________________________________________________________________\n"
          ],
          "name": "stdout"
        }
      ]
    },
    {
      "cell_type": "code",
      "metadata": {
        "colab": {
          "base_uri": "https://localhost:8080/"
        },
        "id": "uarV0kXM_NT7",
        "outputId": "0bacea0e-04c6-4583-b4f1-4136eef64cd6"
      },
      "source": [
        "# Now, let's train our model on the digits 5,6,7,8,9\n",
        "\n",
        "train_model(model,\n",
        "            (x_train_gte5, y_train_gte5),\n",
        "            (x_test_gte5, y_test_gte5), num_classes)"
      ],
      "execution_count": 12,
      "outputs": [
        {
          "output_type": "stream",
          "text": [
            "x_train shape: (29404, 28, 28, 1)\n",
            "29404 train samples\n",
            "4861 test samples\n",
            "Epoch 1/5\n",
            "230/230 [==============================] - 44s 186ms/step - loss: 1.6065 - accuracy: 0.2393 - val_loss: 1.5803 - val_accuracy: 0.3960\n",
            "Epoch 2/5\n",
            "230/230 [==============================] - 42s 183ms/step - loss: 1.5821 - accuracy: 0.3065 - val_loss: 1.5543 - val_accuracy: 0.5112\n",
            "Epoch 3/5\n",
            "230/230 [==============================] - 42s 184ms/step - loss: 1.5584 - accuracy: 0.3695 - val_loss: 1.5271 - val_accuracy: 0.5740\n",
            "Epoch 4/5\n",
            "230/230 [==============================] - 42s 184ms/step - loss: 1.5347 - accuracy: 0.4253 - val_loss: 1.4977 - val_accuracy: 0.6063\n",
            "Epoch 5/5\n",
            "230/230 [==============================] - 43s 188ms/step - loss: 1.5048 - accuracy: 0.4760 - val_loss: 1.4650 - val_accuracy: 0.6369\n",
            "Training time: 0:03:33.992112\n",
            "Test score: 1.4650092124938965\n",
            "Test accuracy: 0.6369059681892395\n"
          ],
          "name": "stdout"
        }
      ]
    },
    {
      "cell_type": "markdown",
      "metadata": {
        "id": "gg10pbnu_NT8"
      },
      "source": [
        "### Freezing Layers\n",
        "Keras allows layers to be \"frozen\" during the training process.  That is, some layers would have their weights updated during the training process, while others would not.  This is a core part of transfer learning, the ability to train just the last one or several layers.\n",
        "\n",
        "Note also, that a lot of the training time is spent \"back-propagating\" the gradients back to the first layer.  Therefore, if we only need to compute the gradients back a small number of layers, the training time is much quicker per iteration.  This is in addition to the savings gained by being able to train on a smaller data set."
      ]
    },
    {
      "cell_type": "code",
      "metadata": {
        "id": "qj2bXfda_NT9"
      },
      "source": [
        "# Freeze only the feature layers\n",
        "for l in feature_layers:\n",
        "    l.trainable = False"
      ],
      "execution_count": 13,
      "outputs": []
    },
    {
      "cell_type": "markdown",
      "metadata": {
        "id": "wyaAZjMY_NT-"
      },
      "source": [
        "Observe below the differences between the number of *total params*, *trainable params*, and *non-trainable params*."
      ]
    },
    {
      "cell_type": "code",
      "metadata": {
        "colab": {
          "base_uri": "https://localhost:8080/"
        },
        "id": "j7e7nGBi_NUU",
        "outputId": "d2a6dfce-47cf-42df-f5fd-b76a2b28a220"
      },
      "source": [
        "model.summary()"
      ],
      "execution_count": 14,
      "outputs": [
        {
          "output_type": "stream",
          "text": [
            "Model: \"sequential\"\n",
            "_________________________________________________________________\n",
            "Layer (type)                 Output Shape              Param #   \n",
            "=================================================================\n",
            "conv2d (Conv2D)              (None, 26, 26, 32)        320       \n",
            "_________________________________________________________________\n",
            "activation (Activation)      (None, 26, 26, 32)        0         \n",
            "_________________________________________________________________\n",
            "conv2d_1 (Conv2D)            (None, 24, 24, 32)        9248      \n",
            "_________________________________________________________________\n",
            "activation_1 (Activation)    (None, 24, 24, 32)        0         \n",
            "_________________________________________________________________\n",
            "max_pooling2d (MaxPooling2D) (None, 12, 12, 32)        0         \n",
            "_________________________________________________________________\n",
            "dropout (Dropout)            (None, 12, 12, 32)        0         \n",
            "_________________________________________________________________\n",
            "flatten (Flatten)            (None, 4608)              0         \n",
            "_________________________________________________________________\n",
            "dense (Dense)                (None, 128)               589952    \n",
            "_________________________________________________________________\n",
            "activation_2 (Activation)    (None, 128)               0         \n",
            "_________________________________________________________________\n",
            "dropout_1 (Dropout)          (None, 128)               0         \n",
            "_________________________________________________________________\n",
            "dense_1 (Dense)              (None, 5)                 645       \n",
            "_________________________________________________________________\n",
            "activation_3 (Activation)    (None, 5)                 0         \n",
            "=================================================================\n",
            "Total params: 600,165\n",
            "Trainable params: 590,597\n",
            "Non-trainable params: 9,568\n",
            "_________________________________________________________________\n"
          ],
          "name": "stdout"
        }
      ]
    },
    {
      "cell_type": "code",
      "metadata": {
        "colab": {
          "base_uri": "https://localhost:8080/"
        },
        "id": "q9MCTG6B_NUW",
        "outputId": "f167e03e-52b5-4ece-83bd-4b1f1e040d87"
      },
      "source": [
        "train_model(model,\n",
        "            (x_train_lt5, y_train_lt5),\n",
        "            (x_test_lt5, y_test_lt5), num_classes)"
      ],
      "execution_count": 15,
      "outputs": [
        {
          "output_type": "stream",
          "text": [
            "x_train shape: (30596, 28, 28, 1)\n",
            "30596 train samples\n",
            "5139 test samples\n",
            "Epoch 1/5\n",
            "240/240 [==============================] - 16s 63ms/step - loss: 1.6040 - accuracy: 0.2340 - val_loss: 1.5705 - val_accuracy: 0.3232\n",
            "Epoch 2/5\n",
            "240/240 [==============================] - 15s 63ms/step - loss: 1.5687 - accuracy: 0.3051 - val_loss: 1.5310 - val_accuracy: 0.4791\n",
            "Epoch 3/5\n",
            "240/240 [==============================] - 15s 63ms/step - loss: 1.5301 - accuracy: 0.3848 - val_loss: 1.4919 - val_accuracy: 0.5803\n",
            "Epoch 4/5\n",
            "240/240 [==============================] - 15s 62ms/step - loss: 1.4950 - accuracy: 0.4490 - val_loss: 1.4531 - val_accuracy: 0.6530\n",
            "Epoch 5/5\n",
            "240/240 [==============================] - 15s 62ms/step - loss: 1.4582 - accuracy: 0.5112 - val_loss: 1.4145 - val_accuracy: 0.7118\n",
            "Training time: 0:01:15.595881\n",
            "Test score: 1.414460301399231\n",
            "Test accuracy: 0.7118116617202759\n"
          ],
          "name": "stdout"
        }
      ]
    },
    {
      "cell_type": "markdown",
      "metadata": {
        "id": "On9YrO1N_NUX"
      },
      "source": [
        "Note that after a single epoch, we are already achieving results on classifying 0-4 that are comparable to those achieved on 5-9 after 5 full epochs.  This despite the fact the we are only \"fine-tuning\" the last layer of the network, and all the early layers have never seen what the digits 0-4 look like.\n",
        "\n",
        "Also, note that even though nearly all (590K/600K) of the *parameters* were trainable, the training time per epoch was still much reduced.  This is because the unfrozen part of the network was very shallow, making backpropagation faster. "
      ]
    },
    {
      "cell_type": "markdown",
      "metadata": {
        "id": "WU97Wyzq_NUb"
      },
      "source": [
        "## Exercise\n",
        "- Now we will write code to reverse this training process.  That is, train on the digits 0-4, then finetune only the last layers on the digits 5-9."
      ]
    },
    {
      "cell_type": "code",
      "metadata": {
        "colab": {
          "base_uri": "https://localhost:8080/"
        },
        "id": "V4PsUyiQ_NUd",
        "outputId": "81012c28-28f7-48bb-c2b1-9b66b08df5f7"
      },
      "source": [
        "# Create layers and define the model as above\n",
        "feature_layers2 = [\n",
        "    Conv2D(filters, kernel_size,\n",
        "           padding='valid',\n",
        "           input_shape=input_shape),\n",
        "    Activation('relu'),\n",
        "    Conv2D(filters, kernel_size),\n",
        "    Activation('relu'),\n",
        "    MaxPooling2D(pool_size=pool_size),\n",
        "    Dropout(0.25),\n",
        "    Flatten(),\n",
        "]\n",
        "\n",
        "classification_layers2 = [\n",
        "    Dense(128),\n",
        "    Activation('relu'),\n",
        "    Dropout(0.5),\n",
        "    Dense(num_classes),\n",
        "    Activation('softmax')\n",
        "]\n",
        "model2 = Sequential(feature_layers2 + classification_layers2)\n",
        "model2.summary()"
      ],
      "execution_count": 16,
      "outputs": [
        {
          "output_type": "stream",
          "text": [
            "Model: \"sequential_1\"\n",
            "_________________________________________________________________\n",
            "Layer (type)                 Output Shape              Param #   \n",
            "=================================================================\n",
            "conv2d_2 (Conv2D)            (None, 26, 26, 32)        320       \n",
            "_________________________________________________________________\n",
            "activation_4 (Activation)    (None, 26, 26, 32)        0         \n",
            "_________________________________________________________________\n",
            "conv2d_3 (Conv2D)            (None, 24, 24, 32)        9248      \n",
            "_________________________________________________________________\n",
            "activation_5 (Activation)    (None, 24, 24, 32)        0         \n",
            "_________________________________________________________________\n",
            "max_pooling2d_1 (MaxPooling2 (None, 12, 12, 32)        0         \n",
            "_________________________________________________________________\n",
            "dropout_2 (Dropout)          (None, 12, 12, 32)        0         \n",
            "_________________________________________________________________\n",
            "flatten_1 (Flatten)          (None, 4608)              0         \n",
            "_________________________________________________________________\n",
            "dense_2 (Dense)              (None, 128)               589952    \n",
            "_________________________________________________________________\n",
            "activation_6 (Activation)    (None, 128)               0         \n",
            "_________________________________________________________________\n",
            "dropout_3 (Dropout)          (None, 128)               0         \n",
            "_________________________________________________________________\n",
            "dense_3 (Dense)              (None, 5)                 645       \n",
            "_________________________________________________________________\n",
            "activation_7 (Activation)    (None, 5)                 0         \n",
            "=================================================================\n",
            "Total params: 600,165\n",
            "Trainable params: 600,165\n",
            "Non-trainable params: 0\n",
            "_________________________________________________________________\n"
          ],
          "name": "stdout"
        }
      ]
    },
    {
      "cell_type": "code",
      "metadata": {
        "colab": {
          "base_uri": "https://localhost:8080/"
        },
        "id": "OJ1XPLg2_NUk",
        "outputId": "f77a2aa3-85fd-46c0-f180-7c4bf4cf514a"
      },
      "source": [
        "# Now, let's train our model on the digits 0,1,2,3,4\n",
        "train_model(model2,\n",
        "            (x_train_lt5, y_train_lt5),\n",
        "            (x_test_lt5, y_test_lt5), num_classes)"
      ],
      "execution_count": 17,
      "outputs": [
        {
          "output_type": "stream",
          "text": [
            "x_train shape: (30596, 28, 28, 1)\n",
            "30596 train samples\n",
            "5139 test samples\n",
            "Epoch 1/5\n",
            "240/240 [==============================] - 45s 184ms/step - loss: 1.6040 - accuracy: 0.2248 - val_loss: 1.5793 - val_accuracy: 0.4081\n",
            "Epoch 2/5\n",
            "240/240 [==============================] - 44s 185ms/step - loss: 1.5783 - accuracy: 0.3152 - val_loss: 1.5490 - val_accuracy: 0.5585\n",
            "Epoch 3/5\n",
            "240/240 [==============================] - 44s 184ms/step - loss: 1.5502 - accuracy: 0.4023 - val_loss: 1.5149 - val_accuracy: 0.6879\n",
            "Epoch 4/5\n",
            "240/240 [==============================] - 44s 183ms/step - loss: 1.5163 - accuracy: 0.4866 - val_loss: 1.4756 - val_accuracy: 0.7626\n",
            "Epoch 5/5\n",
            "240/240 [==============================] - 44s 182ms/step - loss: 1.4790 - accuracy: 0.5510 - val_loss: 1.4295 - val_accuracy: 0.8093\n",
            "Training time: 0:03:40.775888\n",
            "Test score: 1.4295018911361694\n",
            "Test accuracy: 0.8093014359474182\n"
          ],
          "name": "stdout"
        }
      ]
    },
    {
      "cell_type": "code",
      "metadata": {
        "id": "WnCjvyx-_NUo"
      },
      "source": [
        "#Freeze layers\n",
        "for l in feature_layers2:\n",
        "    l.trainable = False"
      ],
      "execution_count": 18,
      "outputs": []
    },
    {
      "cell_type": "code",
      "metadata": {
        "colab": {
          "base_uri": "https://localhost:8080/"
        },
        "id": "kBIsxFUA_NUt",
        "outputId": "4d3c7c9d-d0aa-4ceb-e4d2-a4588859329c"
      },
      "source": [
        "model2.summary()"
      ],
      "execution_count": 19,
      "outputs": [
        {
          "output_type": "stream",
          "text": [
            "Model: \"sequential_1\"\n",
            "_________________________________________________________________\n",
            "Layer (type)                 Output Shape              Param #   \n",
            "=================================================================\n",
            "conv2d_2 (Conv2D)            (None, 26, 26, 32)        320       \n",
            "_________________________________________________________________\n",
            "activation_4 (Activation)    (None, 26, 26, 32)        0         \n",
            "_________________________________________________________________\n",
            "conv2d_3 (Conv2D)            (None, 24, 24, 32)        9248      \n",
            "_________________________________________________________________\n",
            "activation_5 (Activation)    (None, 24, 24, 32)        0         \n",
            "_________________________________________________________________\n",
            "max_pooling2d_1 (MaxPooling2 (None, 12, 12, 32)        0         \n",
            "_________________________________________________________________\n",
            "dropout_2 (Dropout)          (None, 12, 12, 32)        0         \n",
            "_________________________________________________________________\n",
            "flatten_1 (Flatten)          (None, 4608)              0         \n",
            "_________________________________________________________________\n",
            "dense_2 (Dense)              (None, 128)               589952    \n",
            "_________________________________________________________________\n",
            "activation_6 (Activation)    (None, 128)               0         \n",
            "_________________________________________________________________\n",
            "dropout_3 (Dropout)          (None, 128)               0         \n",
            "_________________________________________________________________\n",
            "dense_3 (Dense)              (None, 5)                 645       \n",
            "_________________________________________________________________\n",
            "activation_7 (Activation)    (None, 5)                 0         \n",
            "=================================================================\n",
            "Total params: 600,165\n",
            "Trainable params: 590,597\n",
            "Non-trainable params: 9,568\n",
            "_________________________________________________________________\n"
          ],
          "name": "stdout"
        }
      ]
    },
    {
      "cell_type": "code",
      "metadata": {
        "colab": {
          "base_uri": "https://localhost:8080/"
        },
        "id": "npGWMCDY_NU0",
        "outputId": "fc3ca145-ff2c-42d8-fece-d536a6816023"
      },
      "source": [
        "train_model(model2,\n",
        "            (x_train_gte5, y_train_gte5),\n",
        "            (x_test_gte5, y_test_gte5), num_classes)"
      ],
      "execution_count": 20,
      "outputs": [
        {
          "output_type": "stream",
          "text": [
            "x_train shape: (29404, 28, 28, 1)\n",
            "29404 train samples\n",
            "4861 test samples\n",
            "Epoch 1/5\n",
            "230/230 [==============================] - 15s 64ms/step - loss: 1.5966 - accuracy: 0.2541 - val_loss: 1.5705 - val_accuracy: 0.3522\n",
            "Epoch 2/5\n",
            "230/230 [==============================] - 14s 63ms/step - loss: 1.5726 - accuracy: 0.2938 - val_loss: 1.5419 - val_accuracy: 0.4164\n",
            "Epoch 3/5\n",
            "230/230 [==============================] - 14s 63ms/step - loss: 1.5465 - accuracy: 0.3467 - val_loss: 1.5136 - val_accuracy: 0.5133\n",
            "Epoch 4/5\n",
            "230/230 [==============================] - 14s 62ms/step - loss: 1.5205 - accuracy: 0.4046 - val_loss: 1.4858 - val_accuracy: 0.6017\n",
            "Epoch 5/5\n",
            "230/230 [==============================] - 14s 62ms/step - loss: 1.4947 - accuracy: 0.4600 - val_loss: 1.4580 - val_accuracy: 0.6548\n",
            "Training time: 0:01:12.706517\n",
            "Test score: 1.4580134153366089\n",
            "Test accuracy: 0.6548035144805908\n"
          ],
          "name": "stdout"
        }
      ]
    },
    {
      "cell_type": "markdown",
      "metadata": {
        "id": "3cVHY-o6_NU2"
      },
      "source": [
        "---\n",
        "### Machine Learning Foundation (C) 2020 IBM Corporation"
      ]
    }
  ]
}